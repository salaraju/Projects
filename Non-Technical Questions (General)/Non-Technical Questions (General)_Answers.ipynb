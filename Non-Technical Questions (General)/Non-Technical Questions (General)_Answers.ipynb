{
 "cells": [
  {
   "cell_type": "markdown",
   "metadata": {},
   "source": [
    "**Non-Technical Questions (General)**"
   ]
  },
  {
   "cell_type": "markdown",
   "metadata": {},
   "source": [
    "### 1. Who knows you the best?"
   ]
  },
  {
   "cell_type": "markdown",
   "metadata": {},
   "source": [
    "A) My Mother & Brother"
   ]
  },
  {
   "cell_type": "markdown",
   "metadata": {},
   "source": [
    "### 2. Who is your role model and why?"
   ]
  },
  {
   "cell_type": "markdown",
   "metadata": {},
   "source": [
    "A) My role model is Elon Musk. he is inspiring every time, because he is a futuristic man. he is create great companies like Tesla and spaceX etc.. he is a never give up person. Neurallink is a my favourite company. this is my favourite video 'https://youtu.be/M-ZH3psUbfU'. this video about(Advice for Young People).\n",
    "\n",
    "Thanks for asking this question."
   ]
  },
  {
   "cell_type": "markdown",
   "metadata": {},
   "source": [
    "### 3. What would your friends say about you?"
   ]
  },
  {
   "cell_type": "markdown",
   "metadata": {},
   "source": [
    "A) I think my best friend would describe me as best suggestion about technology devices, and also introvert guy, i am too detail oriented and not spend money with friends."
   ]
  },
  {
   "cell_type": "markdown",
   "metadata": {},
   "source": [
    "### 4. What is the thing you’d never say to another person?"
   ]
  },
  {
   "cell_type": "markdown",
   "metadata": {},
   "source": [
    "A) love proposal"
   ]
  },
  {
   "cell_type": "markdown",
   "metadata": {},
   "source": [
    "### 5. What is your greatest achievement?"
   ]
  },
  {
   "cell_type": "markdown",
   "metadata": {},
   "source": [
    "A) 1. I Pass Microsoft Azure AI Fundamentals-AI900 EXAM.\n",
    "\n",
    "   2. In Mobile Legends Bang Bang game i got MCL cup."
   ]
  },
  {
   "cell_type": "markdown",
   "metadata": {},
   "source": [
    "### 6. What is your greatest failure?"
   ]
  },
  {
   "cell_type": "markdown",
   "metadata": {},
   "source": [
    "A) Recently i fail 2times in Microsoft azure ai-900 exam, but 3rd time i am pass."
   ]
  },
  {
   "cell_type": "markdown",
   "metadata": {},
   "source": [
    "### 7. What did you learn from your greatest failure?"
   ]
  },
  {
   "cell_type": "markdown",
   "metadata": {},
   "source": [
    "A) main things i learned 1) read & answer given questions carefully \n",
    "\n",
    "                       2) proper exam preparation plan\n",
    "                      \n",
    "best things takes time, you must always keep hope."
   ]
  },
  {
   "cell_type": "markdown",
   "metadata": {},
   "source": [
    "### 8. What would you like to change about yourself?"
   ]
  },
  {
   "cell_type": "markdown",
   "metadata": {},
   "source": [
    "A) 1) I wanna always improve my self into more persistent.\n",
    "\n",
    "   2) just learn how to accept in life, what ever comes to my life.\n",
    "\n",
    "   3) don't overthink, be calm guy.\n",
    "\n",
    "   4) totally avoid procastination.\n",
    "\n",
    "   5) I wanna always improve my self into more be fit"
   ]
  },
  {
   "cell_type": "markdown",
   "metadata": {},
   "source": [
    "### 9. If something in your house breaks, what is the first thing you do?"
   ]
  },
  {
   "cell_type": "markdown",
   "metadata": {},
   "source": [
    "A) is it possible to fix, then i will be fix. but if can't, i will replace to new one and also better one."
   ]
  },
  {
   "cell_type": "markdown",
   "metadata": {},
   "source": [
    "### 10. What is the greatest obstacle you’re facing right now?"
   ]
  },
  {
   "cell_type": "markdown",
   "metadata": {},
   "source": [
    "A) searching for Perception Engineer JOB in any best autonomous self-driving car company."
   ]
  },
  {
   "cell_type": "markdown",
   "metadata": {},
   "source": [
    "### 11. How do you like to “waste” your time?"
   ]
  },
  {
   "cell_type": "markdown",
   "metadata": {},
   "source": [
    "A) 1.playing video games with friends\n",
    "\n",
    "      2.watching esports live compitations & movies & web series\n"
   ]
  },
  {
   "cell_type": "markdown",
   "metadata": {},
   "source": [
    "### 12. What made you want to apply for this role?"
   ]
  },
  {
   "cell_type": "markdown",
   "metadata": {},
   "source": [
    " A) I see the role as a way of developing my career in a research of ai and development products. i am intersting to rise my self into this field.and i create new inovations suitable for real world and also i believe my skills are well suited to this internship."
   ]
  },
  {
   "cell_type": "markdown",
   "metadata": {},
   "source": [
    "### 13. How open are you to the idea of doing things outside your job description?"
   ]
  },
  {
   "cell_type": "markdown",
   "metadata": {},
   "source": [
    "A) that is useful & interested thing, i will do and spending few hours, if it's not useful i can't do anything, i will always focus on my goal's."
   ]
  },
  {
   "cell_type": "markdown",
   "metadata": {},
   "source": [
    "### 14. Describe a time when you recognized that you were unable to meet multiple deadlines. What did you do about it?"
   ]
  },
  {
   "cell_type": "markdown",
   "metadata": {},
   "source": [
    "A) i think that time i completd 85% to 95% work. then after i approach my boss, i will explain clearlly about work step-step, what kind of situations had to me, why i cant submit work. and also yet i take personal responsibility and talk about what can i to keep it from happening again in the future.i asking to my boss give me sometime. i will definitely completed this work. next time i will focus on much time taken process of work. estimate the time. and also i learn new things about how to completed the work in smart way."
   ]
  },
  {
   "cell_type": "markdown",
   "metadata": {},
   "source": [
    "### 15. Give an example of how you work in a situation where you must prioritize and multitask without supervision."
   ]
  },
  {
   "cell_type": "markdown",
   "metadata": {},
   "source": [
    "A) multitasking doing numerous things or performing multiple activities at the same time. It's a difficult skill depending on the tasks involved. i have not real time job experience. Example if i am in multitask,in project definitely understand what kind of probelm it is, i divided step by step project. in machine learning and deep learning projects are something differnt than other domain projects. i know machine learning projects are 10% computing & 90% engineering. first 1)Collect a list of all your tasks. 2) Identify urgent & important task 3)Assess the value of your tasks. i'll do what kind of work processing fast, that can be completed  in systematically like (some softwares & installation process). it's depending on project requirement. after i'll do focus on more time consume things like (dataset preparation to model build). this process research is more important thing. after build the model focus about checking accuracy values and save the trainable model in safe file location. then requirement on depoly a model into cloud and other webframe works and some api. that can be also completed. check the applcation few times, how it will be give results. finally submit the project."
   ]
  },
  {
   "cell_type": "markdown",
   "metadata": {},
   "source": [
    "### 16. Tell me about a day when everything went wrong. How did you handle it?"
   ]
  },
  {
   "cell_type": "markdown",
   "metadata": {},
   "source": [
    "A) I pray that day not never come back. my system all file are effected the .topi Ransomware. i dont know how it will does. but i lost nearly 800gb important data. i will tried nearlly 1week, but doesn't work any method recover my data. i lost some important photos and video's. i try to every softwares in my laptop and i brought my laptop also service center but he can't recover my files. that it all about bad day in my life or everything went wrong.\n",
    "that time i'll totally erase data into my all disk's, and reset my device."
   ]
  }
 ],
 "metadata": {
  "language_info": {
   "name": "python"
  },
  "orig_nbformat": 4
 },
 "nbformat": 4,
 "nbformat_minor": 2
}
